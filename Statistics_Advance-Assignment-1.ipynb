{
 "cells": [
  {
   "cell_type": "markdown",
   "id": "124f0ed6-d938-4685-97be-8522081ea1f3",
   "metadata": {},
   "source": [
    "# Q1. What is the Probability density function?"
   ]
  },
  {
   "cell_type": "markdown",
   "id": "92e003f3-c835-4bf1-9890-dc1e5da8f724",
   "metadata": {},
   "source": [
    "\n",
    "The Probability Density Function (PDF) is a fundamental concept in probability theory and statistics. It is used to describe the distribution of a continuous random variable. In simpler terms, it provides information about how likely different values of a continuous random variable are to occur within a certain interval.\n",
    "\n",
    "Mathematically, the PDF is a function that assigns probabilities to different outcomes of a continuous random variable. Unlike discrete random variables, which can take on distinct, separate values, continuous random variables can take on any value within a certain range. Because of this, the probability that a continuous random variable will exactly equal a specific value is generally considered to be zero. Instead, we look at the probability of the random variable falling within a range of values."
   ]
  },
  {
   "cell_type": "markdown",
   "id": "42b77743-e943-473e-a44d-2a52c449d8f2",
   "metadata": {},
   "source": [
    "# Q2. What are the types of Probability distribution?"
   ]
  },
  {
   "cell_type": "markdown",
   "id": "21d60b53-c539-4cb2-b499-27c8b7035740",
   "metadata": {},
   "source": [
    "There are several types of probability distributions in statistics, each with its own characteristics and applications. Here are some of the most common types:\n",
    "\n",
    "Normal Distribution (Gaussian Distribution): The normal distribution is one of the most well-known distributions. It is characterized by its bell-shaped curve and is symmetric around the mean. Many real-world phenomena, like heights and weights of individuals, tend to follow a normal distribution. The parameters that define a normal distribution are the mean and the standard deviation.\n",
    "\n",
    "Uniform Distribution: In a uniform distribution, all outcomes within a certain range are equally likely. This distribution is often depicted as a flat, constant curve. An example could be rolling a fair six-sided die, where each face has an equal chance of landing face-up.\n",
    "\n",
    "Exponential Distribution: The exponential distribution describes the time between events in a Poisson process (events that occur at a constant average rate and independently of the time since the last event). It is often used to model situations like the time between phone calls in a call center or the time between arrivals at a busy intersection.\n",
    "\n",
    "Poisson Distribution: The Poisson distribution models the number of events occurring in a fixed interval of time or space, given that these events are rare and random. Examples include the number of customer arrivals at a store during a certain time period or the number of emails received per hour.\n",
    "\n",
    "Binomial Distribution: The binomial distribution models the number of successes in a fixed number of independent Bernoulli trials. Each trial has two possible outcomes: success (with a certain probability) or failure. It is often used for scenarios like coin flips, where the probability of heads or tails is constant.\n",
    "\n",
    "Gamma Distribution: The gamma distribution is a versatile distribution that generalizes several other distributions, including the exponential, chi-squared, and Erlang distributions. It is often used in situations where the waiting time for a certain number of events follows an exponential-like pattern.\n",
    "\n",
    "Lognormal Distribution: The lognormal distribution is used to model data that is the result of exponential growth processes. It often arises in financial modeling and other areas where values cannot be negative.\n",
    "\n",
    "These are just a few examples of probability distributions, and there are many more that are used to model various types of data and situations in statistics and probability theory.\n",
    "\n",
    "\n",
    "\n",
    "\n",
    "\n"
   ]
  },
  {
   "cell_type": "markdown",
   "id": "16df997e-7aaf-4b51-82e3-acc8bb64d059",
   "metadata": {},
   "source": [
    "# Q3. Write a Python function to calculate the probability density function of a normal distribution with given mean and standard deviation at a given point."
   ]
  },
  {
   "cell_type": "code",
   "execution_count": 1,
   "id": "85d6d7cc-979c-4f71-bebe-4ad43e7da089",
   "metadata": {},
   "outputs": [
    {
     "name": "stdout",
     "output_type": "stream",
     "text": [
      "PDF at x = 0.5: 0.3520653267642995\n"
     ]
    }
   ],
   "source": [
    "import math\n",
    "\n",
    "def normal_pdf(x, mean, std_dev):\n",
    "    \"\"\"\n",
    "    Calculate the Probability Density Function (PDF) of a normal distribution.\n",
    "\n",
    "    Args:\n",
    "    x (float): The value at which to calculate the PDF.\n",
    "    mean (float): Mean of the normal distribution.\n",
    "    std_dev (float): Standard deviation of the normal distribution.\n",
    "\n",
    "    Returns:\n",
    "    float: The PDF value at the given point.\n",
    "    \"\"\"\n",
    "    coefficient = 1 / (std_dev * math.sqrt(2 * math.pi))\n",
    "    exponent = -((x - mean)**2) / (2 * std_dev**2)\n",
    "    pdf_value = coefficient * math.exp(exponent)\n",
    "    return pdf_value\n",
    "\n",
    "# Example usage\n",
    "mean = 0\n",
    "std_dev = 1\n",
    "x_value = 0.5\n",
    "pdf_at_x = normal_pdf(x_value, mean, std_dev)\n",
    "print(f\"PDF at x = {x_value}: {pdf_at_x}\")\n"
   ]
  },
  {
   "cell_type": "markdown",
   "id": "7e2bdc23-9a19-4fa9-bf49-a93a519b31da",
   "metadata": {},
   "source": [
    "# Q4. What are the properties of Binomial distribution? Give two examples of events where binomial distribution can be applied."
   ]
  },
  {
   "cell_type": "markdown",
   "id": "e31691d5-9b64-4f37-88b0-f4ef48c9a450",
   "metadata": {},
   "source": [
    "The binomial distribution is a discrete probability distribution that models the number of successes in a fixed number of independent Bernoulli trials, where each trial has two possible outcomes: success (with a certain probability) or failure. \n",
    "\n",
    "Two examples of events where the binomial distribution can be applied are:\n",
    "\n",
    "Flipping a Coin: Consider flipping a fair coin multiple times. Each flip is an independent Bernoulli trial, with two possible outcomes: heads (success) or tails (failure). The binomial distribution can be used to calculate the probability of obtaining a specific number of heads in a given number of flips.\n",
    "\n",
    "Quality Control: In manufacturing, the binomial distribution can be applied to scenarios involving quality control. For example, consider a factory producing light bulbs. Each bulb produced can be either defective or non-defective. If the probability of a bulb being defective is known, the binomial distribution can be used to calculate the likelihood of a certain number of defective bulbs in a batch of a fixed number of bulbs.\n",
    "\n",
    "In both cases, the binomial distribution helps quantify the probabilities of different outcomes when there are only two possible outcomes for each trial, and the trials are independent of each other."
   ]
  },
  {
   "cell_type": "markdown",
   "id": "99b25e13-ae14-4437-814a-3d8046e24f64",
   "metadata": {},
   "source": [
    "# Q5. Generate a random sample of size 1000 from a binomial distribution with probability of success 0.4 and plot a histogram of the results using matplotlib."
   ]
  },
  {
   "cell_type": "code",
   "execution_count": 4,
   "id": "3960d153-e01f-44fd-9b33-07e67b56fca2",
   "metadata": {},
   "outputs": [
    {
     "data": {
      "image/png": "[encoded data removed]",
      "text/plain": [
       "<Figure size 640x480 with 1 Axes>"
      ]
     },
     "metadata": {},
     "output_type": "display_data"
    }
   ],
   "source": [
    "import numpy as np\n",
    "import matplotlib.pyplot as plt\n",
    "\n",
    "# Parameters for the binomial distribution\n",
    "n = 1000  # Number of trials\n",
    "p = 0.4   # Probability of success\n",
    "\n",
    "# Generate a random sample from the binomial distribution\n",
    "sample = np.random.binomial(n, p, 1000)\n",
    "\n",
    "# Create a histogram\n",
    "plt.hist(sample, bins=20, edgecolor='black', alpha=0.7)\n",
    "plt.xlabel('Number of Successes')\n",
    "plt.ylabel('Frequency')\n",
    "plt.title('Histogram of Binomial Distribution Sample')\n",
    "plt.show()\n"
   ]
  },
  {
   "cell_type": "markdown",
   "id": "701b625c-7ce9-4948-ad24-89bd0962b62e",
   "metadata": {},
   "source": [
    "# Q6. Write a Python function to calculate the cumulative distribution function of a Poisson distribution with given mean at a given point."
   ]
  },
  {
   "cell_type": "code",
   "execution_count": 3,
   "id": "404f9623-04d7-404b-8bb6-75a9b3c1ee3e",
   "metadata": {},
   "outputs": [
    {
     "name": "stdout",
     "output_type": "stream",
     "text": [
      "CDF at x = 5: 0.9160820579686966\n"
     ]
    }
   ],
   "source": [
    "import math\n",
    "\n",
    "def poisson_cdf(x, mean):\n",
    "    \"\"\"\n",
    "    Calculate the Cumulative Distribution Function (CDF) of a Poisson distribution.\n",
    "\n",
    "    Args:\n",
    "    x (int): The value at which to calculate the CDF.\n",
    "    mean (float): Mean of the Poisson distribution.\n",
    "\n",
    "    Returns:\n",
    "    float: The CDF value at the given point.\n",
    "    \"\"\"\n",
    "    cdf_value = 0\n",
    "    for k in range(x + 1):\n",
    "        cdf_value += (math.exp(-mean) * mean**k) / math.factorial(k)\n",
    "    return cdf_value\n",
    "\n",
    "# Example usage\n",
    "mean = 3\n",
    "x_value = 5\n",
    "cdf_at_x = poisson_cdf(x_value, mean)\n",
    "print(f\"CDF at x = {x_value}: {cdf_at_x}\")\n"
   ]
  },
  {
   "cell_type": "markdown",
   "id": "41aa8980-e27a-4942-97e1-1a3bfbf0ce50",
   "metadata": {},
   "source": [
    "# Q7. How Binomial distribution different from Poisson distribution?"
   ]
  },
  {
   "cell_type": "markdown",
   "id": "eafa2f70-e557-42ef-a087-5fcf12933ea0",
   "metadata": {},
   "source": [
    "Nature of Events:\n",
    "\n",
    "Binomial Distribution: The binomial distribution models the number of successes in a fixed number of independent trials, where each trial has two possible outcomes: success or failure.\n",
    "Poisson Distribution: The Poisson distribution models the number of events that occur in a fixed interval of time or space, where the events are rare and random. It focuses on counting occurrences in a continuous or semi-continuous stream.\n",
    "Number of Trials or Events:\n",
    "\n",
    "Binomial Distribution: The number of trials is fixed and denoted as n.\n",
    "Poisson Distribution: There is no fixed number of trials. The distribution is defined over a continuous range of possible event counts.\n",
    "\n",
    "Applicability:\n",
    "\n",
    "Binomial Distribution: Used when there is a fixed number of independent trials and each trial has a consistent probability of success. Commonly applied to situations like coin flips, pass/fail tests, and repeated Bernoulli trials.\n",
    "Poisson Distribution: Used for modeling rare events, such as the number of phone calls in a call center during a specific time interval, the number of arrivals at a busy intersection, or the number of accidents in a given time frame."
   ]
  },
  {
   "cell_type": "markdown",
   "id": "5782c734-3ab1-4e34-b27e-c2c84bb79425",
   "metadata": {},
   "source": [
    "# Q8. Generate a random sample of size 1000 from a Poisson distribution with mean 5 and calculate the sample mean and variance."
   ]
  },
  {
   "cell_type": "code",
   "execution_count": 5,
   "id": "8bc73477-d594-4810-afa7-fc9bdf4c7c29",
   "metadata": {},
   "outputs": [
    {
     "name": "stdout",
     "output_type": "stream",
     "text": [
      "Sample Mean: 5.186\n",
      "Sample Variance: 5.015403999999998\n"
     ]
    }
   ],
   "source": [
    "import numpy as np\n",
    "\n",
    "# Parameters for the Poisson distribution\n",
    "mean = 5\n",
    "\n",
    "# Generate a random sample from the Poisson distribution\n",
    "sample = np.random.poisson(mean, 1000)\n",
    "\n",
    "# Calculate the sample mean and variance\n",
    "sample_mean = np.mean(sample)\n",
    "sample_variance = np.var(sample)\n",
    "\n",
    "print(f\"Sample Mean: {sample_mean}\")\n",
    "print(f\"Sample Variance: {sample_variance}\")\n"
   ]
  },
  {
   "cell_type": "markdown",
   "id": "798c7258-be74-4ae9-82e5-dd1fe7047212",
   "metadata": {},
   "source": [
    "# Q9. How mean and variance are related in Binomial distribution and Poisson distribution?"
   ]
  },
  {
   "cell_type": "markdown",
   "id": "84058b53-febe-4646-a5b9-927f70a4a3ae",
   "metadata": {},
   "source": [
    "Both the mean and variance play important roles in describing the characteristics of probability distributions, including the Binomial and Poisson distributions. The relationship between mean (μ) and variance is a fundamental aspect of these distributions\n",
    "\n",
    "Binomial Distribution:\n",
    "For a Binomial distribution with parameters n (number of trials) and p (probability of success), the mean and variance are related as follows:\n",
    "\n",
    "Mean:\n",
    "μ=n⋅p\n",
    "Variance: \n",
    " =n⋅p⋅(1−p)\n",
    " \n",
    "In the Binomial distribution, the mean represents the expected number of successes in n trials, and the variance accounts for how much the actual number of successes is expected to deviate from the mean\n",
    "\n",
    "Poisson Distribution:\n",
    "For a Poisson distribution with parameter λ (average rate of events), the mean and variance are related as follows:\n",
    "\n",
    "Mean: \n",
    "μ=λ\n",
    "Variance: \n",
    " =λ\n",
    " \n",
    "In the Poisson distribution, both the mean and variance are equal to the average rate of events (λ). This implies that in the Poisson distribution, the spread of the distribution is entirely determined by the average rate of occurrence. When events are rare and random, the Poisson distribution's variance is equal to its mean.\n",
    "\n"
   ]
  },
  {
   "cell_type": "markdown",
   "id": "2b8abeb0-c33b-4be5-b02f-144b3d6c8534",
   "metadata": {},
   "source": [
    "# Q10. In normal distribution with respect to mean position, where does the least frequent data appear?"
   ]
  },
  {
   "cell_type": "code",
   "execution_count": null,
   "id": "2d94c690-3458-424a-bb33-0ec9c70ab1a7",
   "metadata": {},
   "outputs": [],
   "source": []
  }
 ],
 "metadata": {
  "kernelspec": {
   "display_name": "Python 3 (ipykernel)",
   "language": "python",
   "name": "python3"
  },
  "language_info": {
   "codemirror_mode": {
    "name": "ipython",
    "version": 3
   },
   "file_extension": ".py",
   "mimetype": "text/x-python",
   "name": "python",
   "nbconvert_exporter": "python",
   "pygments_lexer": "ipython3",
   "version": "3.10.8"
  }
 },
 "nbformat": 4,
 "nbformat_minor": 5
}
